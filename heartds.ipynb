{
  "nbformat": 4,
  "nbformat_minor": 0,
  "metadata": {
    "colab": {
      "provenance": [],
      "gpuType": "T4"
    },
    "kernelspec": {
      "name": "python3",
      "display_name": "Python 3"
    },
    "language_info": {
      "name": "python"
    },
    "accelerator": "GPU",
    "widgets": {
      "application/vnd.jupyter.widget-state+json": {
        "cabb3ab912b64f89bcaad66e79c7cd09": {
          "model_module": "@jupyter-widgets/controls",
          "model_name": "HBoxModel",
          "model_module_version": "1.5.0",
          "state": {
            "_dom_classes": [],
            "_model_module": "@jupyter-widgets/controls",
            "_model_module_version": "1.5.0",
            "_model_name": "HBoxModel",
            "_view_count": null,
            "_view_module": "@jupyter-widgets/controls",
            "_view_module_version": "1.5.0",
            "_view_name": "HBoxView",
            "box_style": "",
            "children": [
              "IPY_MODEL_6809459f218d4001a5d0748de3422422",
              "IPY_MODEL_509228131f7f4d67b73ef9f546328aa1",
              "IPY_MODEL_f8ee1937acc949c68a94790f0a366a18"
            ],
            "layout": "IPY_MODEL_a90a5726f44c41859e45e037697ba174"
          }
        },
        "6809459f218d4001a5d0748de3422422": {
          "model_module": "@jupyter-widgets/controls",
          "model_name": "HTMLModel",
          "model_module_version": "1.5.0",
          "state": {
            "_dom_classes": [],
            "_model_module": "@jupyter-widgets/controls",
            "_model_module_version": "1.5.0",
            "_model_name": "HTMLModel",
            "_view_count": null,
            "_view_module": "@jupyter-widgets/controls",
            "_view_module_version": "1.5.0",
            "_view_name": "HTMLView",
            "description": "",
            "description_tooltip": null,
            "layout": "IPY_MODEL_e23f44ab692a4dc98fd37178c05b0ebb",
            "placeholder": "​",
            "style": "IPY_MODEL_caa74b601c3e4f35b3fdd68f18766a0c",
            "value": "Finding Elimination Order: : "
          }
        },
        "509228131f7f4d67b73ef9f546328aa1": {
          "model_module": "@jupyter-widgets/controls",
          "model_name": "FloatProgressModel",
          "model_module_version": "1.5.0",
          "state": {
            "_dom_classes": [],
            "_model_module": "@jupyter-widgets/controls",
            "_model_module_version": "1.5.0",
            "_model_name": "FloatProgressModel",
            "_view_count": null,
            "_view_module": "@jupyter-widgets/controls",
            "_view_module_version": "1.5.0",
            "_view_name": "ProgressView",
            "bar_style": "success",
            "description": "",
            "description_tooltip": null,
            "layout": "IPY_MODEL_6e1f21ab24254984a5fb66168b2122fb",
            "max": 1,
            "min": 0,
            "orientation": "horizontal",
            "style": "IPY_MODEL_8aee03aff4124e2fb1bd4ca20af8f6fc",
            "value": 0
          }
        },
        "f8ee1937acc949c68a94790f0a366a18": {
          "model_module": "@jupyter-widgets/controls",
          "model_name": "HTMLModel",
          "model_module_version": "1.5.0",
          "state": {
            "_dom_classes": [],
            "_model_module": "@jupyter-widgets/controls",
            "_model_module_version": "1.5.0",
            "_model_name": "HTMLModel",
            "_view_count": null,
            "_view_module": "@jupyter-widgets/controls",
            "_view_module_version": "1.5.0",
            "_view_name": "HTMLView",
            "description": "",
            "description_tooltip": null,
            "layout": "IPY_MODEL_14983c1f75454520a32a92fa87ab59c1",
            "placeholder": "​",
            "style": "IPY_MODEL_6cf8062f500f422ba63761ee4f6738fc",
            "value": " 0/0 [01:58&lt;?, ?it/s]"
          }
        },
        "a90a5726f44c41859e45e037697ba174": {
          "model_module": "@jupyter-widgets/base",
          "model_name": "LayoutModel",
          "model_module_version": "1.2.0",
          "state": {
            "_model_module": "@jupyter-widgets/base",
            "_model_module_version": "1.2.0",
            "_model_name": "LayoutModel",
            "_view_count": null,
            "_view_module": "@jupyter-widgets/base",
            "_view_module_version": "1.2.0",
            "_view_name": "LayoutView",
            "align_content": null,
            "align_items": null,
            "align_self": null,
            "border": null,
            "bottom": null,
            "display": null,
            "flex": null,
            "flex_flow": null,
            "grid_area": null,
            "grid_auto_columns": null,
            "grid_auto_flow": null,
            "grid_auto_rows": null,
            "grid_column": null,
            "grid_gap": null,
            "grid_row": null,
            "grid_template_areas": null,
            "grid_template_columns": null,
            "grid_template_rows": null,
            "height": null,
            "justify_content": null,
            "justify_items": null,
            "left": null,
            "margin": null,
            "max_height": null,
            "max_width": null,
            "min_height": null,
            "min_width": null,
            "object_fit": null,
            "object_position": null,
            "order": null,
            "overflow": null,
            "overflow_x": null,
            "overflow_y": null,
            "padding": null,
            "right": null,
            "top": null,
            "visibility": null,
            "width": null
          }
        },
        "e23f44ab692a4dc98fd37178c05b0ebb": {
          "model_module": "@jupyter-widgets/base",
          "model_name": "LayoutModel",
          "model_module_version": "1.2.0",
          "state": {
            "_model_module": "@jupyter-widgets/base",
            "_model_module_version": "1.2.0",
            "_model_name": "LayoutModel",
            "_view_count": null,
            "_view_module": "@jupyter-widgets/base",
            "_view_module_version": "1.2.0",
            "_view_name": "LayoutView",
            "align_content": null,
            "align_items": null,
            "align_self": null,
            "border": null,
            "bottom": null,
            "display": null,
            "flex": null,
            "flex_flow": null,
            "grid_area": null,
            "grid_auto_columns": null,
            "grid_auto_flow": null,
            "grid_auto_rows": null,
            "grid_column": null,
            "grid_gap": null,
            "grid_row": null,
            "grid_template_areas": null,
            "grid_template_columns": null,
            "grid_template_rows": null,
            "height": null,
            "justify_content": null,
            "justify_items": null,
            "left": null,
            "margin": null,
            "max_height": null,
            "max_width": null,
            "min_height": null,
            "min_width": null,
            "object_fit": null,
            "object_position": null,
            "order": null,
            "overflow": null,
            "overflow_x": null,
            "overflow_y": null,
            "padding": null,
            "right": null,
            "top": null,
            "visibility": null,
            "width": null
          }
        },
        "caa74b601c3e4f35b3fdd68f18766a0c": {
          "model_module": "@jupyter-widgets/controls",
          "model_name": "DescriptionStyleModel",
          "model_module_version": "1.5.0",
          "state": {
            "_model_module": "@jupyter-widgets/controls",
            "_model_module_version": "1.5.0",
            "_model_name": "DescriptionStyleModel",
            "_view_count": null,
            "_view_module": "@jupyter-widgets/base",
            "_view_module_version": "1.2.0",
            "_view_name": "StyleView",
            "description_width": ""
          }
        },
        "6e1f21ab24254984a5fb66168b2122fb": {
          "model_module": "@jupyter-widgets/base",
          "model_name": "LayoutModel",
          "model_module_version": "1.2.0",
          "state": {
            "_model_module": "@jupyter-widgets/base",
            "_model_module_version": "1.2.0",
            "_model_name": "LayoutModel",
            "_view_count": null,
            "_view_module": "@jupyter-widgets/base",
            "_view_module_version": "1.2.0",
            "_view_name": "LayoutView",
            "align_content": null,
            "align_items": null,
            "align_self": null,
            "border": null,
            "bottom": null,
            "display": null,
            "flex": null,
            "flex_flow": null,
            "grid_area": null,
            "grid_auto_columns": null,
            "grid_auto_flow": null,
            "grid_auto_rows": null,
            "grid_column": null,
            "grid_gap": null,
            "grid_row": null,
            "grid_template_areas": null,
            "grid_template_columns": null,
            "grid_template_rows": null,
            "height": null,
            "justify_content": null,
            "justify_items": null,
            "left": null,
            "margin": null,
            "max_height": null,
            "max_width": null,
            "min_height": null,
            "min_width": null,
            "object_fit": null,
            "object_position": null,
            "order": null,
            "overflow": null,
            "overflow_x": null,
            "overflow_y": null,
            "padding": null,
            "right": null,
            "top": null,
            "visibility": null,
            "width": "20px"
          }
        },
        "8aee03aff4124e2fb1bd4ca20af8f6fc": {
          "model_module": "@jupyter-widgets/controls",
          "model_name": "ProgressStyleModel",
          "model_module_version": "1.5.0",
          "state": {
            "_model_module": "@jupyter-widgets/controls",
            "_model_module_version": "1.5.0",
            "_model_name": "ProgressStyleModel",
            "_view_count": null,
            "_view_module": "@jupyter-widgets/base",
            "_view_module_version": "1.2.0",
            "_view_name": "StyleView",
            "bar_color": null,
            "description_width": ""
          }
        },
        "14983c1f75454520a32a92fa87ab59c1": {
          "model_module": "@jupyter-widgets/base",
          "model_name": "LayoutModel",
          "model_module_version": "1.2.0",
          "state": {
            "_model_module": "@jupyter-widgets/base",
            "_model_module_version": "1.2.0",
            "_model_name": "LayoutModel",
            "_view_count": null,
            "_view_module": "@jupyter-widgets/base",
            "_view_module_version": "1.2.0",
            "_view_name": "LayoutView",
            "align_content": null,
            "align_items": null,
            "align_self": null,
            "border": null,
            "bottom": null,
            "display": null,
            "flex": null,
            "flex_flow": null,
            "grid_area": null,
            "grid_auto_columns": null,
            "grid_auto_flow": null,
            "grid_auto_rows": null,
            "grid_column": null,
            "grid_gap": null,
            "grid_row": null,
            "grid_template_areas": null,
            "grid_template_columns": null,
            "grid_template_rows": null,
            "height": null,
            "justify_content": null,
            "justify_items": null,
            "left": null,
            "margin": null,
            "max_height": null,
            "max_width": null,
            "min_height": null,
            "min_width": null,
            "object_fit": null,
            "object_position": null,
            "order": null,
            "overflow": null,
            "overflow_x": null,
            "overflow_y": null,
            "padding": null,
            "right": null,
            "top": null,
            "visibility": null,
            "width": null
          }
        },
        "6cf8062f500f422ba63761ee4f6738fc": {
          "model_module": "@jupyter-widgets/controls",
          "model_name": "DescriptionStyleModel",
          "model_module_version": "1.5.0",
          "state": {
            "_model_module": "@jupyter-widgets/controls",
            "_model_module_version": "1.5.0",
            "_model_name": "DescriptionStyleModel",
            "_view_count": null,
            "_view_module": "@jupyter-widgets/base",
            "_view_module_version": "1.2.0",
            "_view_name": "StyleView",
            "description_width": ""
          }
        },
        "03cb889413d04595b8e093aa8afcbf5b": {
          "model_module": "@jupyter-widgets/controls",
          "model_name": "HBoxModel",
          "model_module_version": "1.5.0",
          "state": {
            "_dom_classes": [],
            "_model_module": "@jupyter-widgets/controls",
            "_model_module_version": "1.5.0",
            "_model_name": "HBoxModel",
            "_view_count": null,
            "_view_module": "@jupyter-widgets/controls",
            "_view_module_version": "1.5.0",
            "_view_name": "HBoxView",
            "box_style": "",
            "children": [
              "IPY_MODEL_8b7246bdccb4431d83872ea5e22ea703",
              "IPY_MODEL_a11d42d4f3764772af808ef4329277fd",
              "IPY_MODEL_e2008c80d607458ab206a230c5a8dfaa"
            ],
            "layout": "IPY_MODEL_9cba2ed237ce45af9e1174d8c1acceeb"
          }
        },
        "8b7246bdccb4431d83872ea5e22ea703": {
          "model_module": "@jupyter-widgets/controls",
          "model_name": "HTMLModel",
          "model_module_version": "1.5.0",
          "state": {
            "_dom_classes": [],
            "_model_module": "@jupyter-widgets/controls",
            "_model_module_version": "1.5.0",
            "_model_name": "HTMLModel",
            "_view_count": null,
            "_view_module": "@jupyter-widgets/controls",
            "_view_module_version": "1.5.0",
            "_view_name": "HTMLView",
            "description": "",
            "description_tooltip": null,
            "layout": "IPY_MODEL_52a5f6ab96dd4f0db452ca60219787f8",
            "placeholder": "​",
            "style": "IPY_MODEL_3810259483464779be4a91f6c13a8ebb",
            "value": ""
          }
        },
        "a11d42d4f3764772af808ef4329277fd": {
          "model_module": "@jupyter-widgets/controls",
          "model_name": "FloatProgressModel",
          "model_module_version": "1.5.0",
          "state": {
            "_dom_classes": [],
            "_model_module": "@jupyter-widgets/controls",
            "_model_module_version": "1.5.0",
            "_model_name": "FloatProgressModel",
            "_view_count": null,
            "_view_module": "@jupyter-widgets/controls",
            "_view_module_version": "1.5.0",
            "_view_name": "ProgressView",
            "bar_style": "success",
            "description": "",
            "description_tooltip": null,
            "layout": "IPY_MODEL_8ef09ca108c042b6806710a70f85b179",
            "max": 1,
            "min": 0,
            "orientation": "horizontal",
            "style": "IPY_MODEL_0ec2c05c27fd434fbcda06b6514f7c12",
            "value": 0
          }
        },
        "e2008c80d607458ab206a230c5a8dfaa": {
          "model_module": "@jupyter-widgets/controls",
          "model_name": "HTMLModel",
          "model_module_version": "1.5.0",
          "state": {
            "_dom_classes": [],
            "_model_module": "@jupyter-widgets/controls",
            "_model_module_version": "1.5.0",
            "_model_name": "HTMLModel",
            "_view_count": null,
            "_view_module": "@jupyter-widgets/controls",
            "_view_module_version": "1.5.0",
            "_view_name": "HTMLView",
            "description": "",
            "description_tooltip": null,
            "layout": "IPY_MODEL_83bbb78a5b6b49739021711871a3e42e",
            "placeholder": "​",
            "style": "IPY_MODEL_afb9a6158e35411b93dacefc103edb6e",
            "value": " 0/0 [00:00&lt;?, ?it/s]"
          }
        },
        "9cba2ed237ce45af9e1174d8c1acceeb": {
          "model_module": "@jupyter-widgets/base",
          "model_name": "LayoutModel",
          "model_module_version": "1.2.0",
          "state": {
            "_model_module": "@jupyter-widgets/base",
            "_model_module_version": "1.2.0",
            "_model_name": "LayoutModel",
            "_view_count": null,
            "_view_module": "@jupyter-widgets/base",
            "_view_module_version": "1.2.0",
            "_view_name": "LayoutView",
            "align_content": null,
            "align_items": null,
            "align_self": null,
            "border": null,
            "bottom": null,
            "display": null,
            "flex": null,
            "flex_flow": null,
            "grid_area": null,
            "grid_auto_columns": null,
            "grid_auto_flow": null,
            "grid_auto_rows": null,
            "grid_column": null,
            "grid_gap": null,
            "grid_row": null,
            "grid_template_areas": null,
            "grid_template_columns": null,
            "grid_template_rows": null,
            "height": null,
            "justify_content": null,
            "justify_items": null,
            "left": null,
            "margin": null,
            "max_height": null,
            "max_width": null,
            "min_height": null,
            "min_width": null,
            "object_fit": null,
            "object_position": null,
            "order": null,
            "overflow": null,
            "overflow_x": null,
            "overflow_y": null,
            "padding": null,
            "right": null,
            "top": null,
            "visibility": null,
            "width": null
          }
        },
        "52a5f6ab96dd4f0db452ca60219787f8": {
          "model_module": "@jupyter-widgets/base",
          "model_name": "LayoutModel",
          "model_module_version": "1.2.0",
          "state": {
            "_model_module": "@jupyter-widgets/base",
            "_model_module_version": "1.2.0",
            "_model_name": "LayoutModel",
            "_view_count": null,
            "_view_module": "@jupyter-widgets/base",
            "_view_module_version": "1.2.0",
            "_view_name": "LayoutView",
            "align_content": null,
            "align_items": null,
            "align_self": null,
            "border": null,
            "bottom": null,
            "display": null,
            "flex": null,
            "flex_flow": null,
            "grid_area": null,
            "grid_auto_columns": null,
            "grid_auto_flow": null,
            "grid_auto_rows": null,
            "grid_column": null,
            "grid_gap": null,
            "grid_row": null,
            "grid_template_areas": null,
            "grid_template_columns": null,
            "grid_template_rows": null,
            "height": null,
            "justify_content": null,
            "justify_items": null,
            "left": null,
            "margin": null,
            "max_height": null,
            "max_width": null,
            "min_height": null,
            "min_width": null,
            "object_fit": null,
            "object_position": null,
            "order": null,
            "overflow": null,
            "overflow_x": null,
            "overflow_y": null,
            "padding": null,
            "right": null,
            "top": null,
            "visibility": null,
            "width": null
          }
        },
        "3810259483464779be4a91f6c13a8ebb": {
          "model_module": "@jupyter-widgets/controls",
          "model_name": "DescriptionStyleModel",
          "model_module_version": "1.5.0",
          "state": {
            "_model_module": "@jupyter-widgets/controls",
            "_model_module_version": "1.5.0",
            "_model_name": "DescriptionStyleModel",
            "_view_count": null,
            "_view_module": "@jupyter-widgets/base",
            "_view_module_version": "1.2.0",
            "_view_name": "StyleView",
            "description_width": ""
          }
        },
        "8ef09ca108c042b6806710a70f85b179": {
          "model_module": "@jupyter-widgets/base",
          "model_name": "LayoutModel",
          "model_module_version": "1.2.0",
          "state": {
            "_model_module": "@jupyter-widgets/base",
            "_model_module_version": "1.2.0",
            "_model_name": "LayoutModel",
            "_view_count": null,
            "_view_module": "@jupyter-widgets/base",
            "_view_module_version": "1.2.0",
            "_view_name": "LayoutView",
            "align_content": null,
            "align_items": null,
            "align_self": null,
            "border": null,
            "bottom": null,
            "display": null,
            "flex": null,
            "flex_flow": null,
            "grid_area": null,
            "grid_auto_columns": null,
            "grid_auto_flow": null,
            "grid_auto_rows": null,
            "grid_column": null,
            "grid_gap": null,
            "grid_row": null,
            "grid_template_areas": null,
            "grid_template_columns": null,
            "grid_template_rows": null,
            "height": null,
            "justify_content": null,
            "justify_items": null,
            "left": null,
            "margin": null,
            "max_height": null,
            "max_width": null,
            "min_height": null,
            "min_width": null,
            "object_fit": null,
            "object_position": null,
            "order": null,
            "overflow": null,
            "overflow_x": null,
            "overflow_y": null,
            "padding": null,
            "right": null,
            "top": null,
            "visibility": null,
            "width": "20px"
          }
        },
        "0ec2c05c27fd434fbcda06b6514f7c12": {
          "model_module": "@jupyter-widgets/controls",
          "model_name": "ProgressStyleModel",
          "model_module_version": "1.5.0",
          "state": {
            "_model_module": "@jupyter-widgets/controls",
            "_model_module_version": "1.5.0",
            "_model_name": "ProgressStyleModel",
            "_view_count": null,
            "_view_module": "@jupyter-widgets/base",
            "_view_module_version": "1.2.0",
            "_view_name": "StyleView",
            "bar_color": null,
            "description_width": ""
          }
        },
        "83bbb78a5b6b49739021711871a3e42e": {
          "model_module": "@jupyter-widgets/base",
          "model_name": "LayoutModel",
          "model_module_version": "1.2.0",
          "state": {
            "_model_module": "@jupyter-widgets/base",
            "_model_module_version": "1.2.0",
            "_model_name": "LayoutModel",
            "_view_count": null,
            "_view_module": "@jupyter-widgets/base",
            "_view_module_version": "1.2.0",
            "_view_name": "LayoutView",
            "align_content": null,
            "align_items": null,
            "align_self": null,
            "border": null,
            "bottom": null,
            "display": null,
            "flex": null,
            "flex_flow": null,
            "grid_area": null,
            "grid_auto_columns": null,
            "grid_auto_flow": null,
            "grid_auto_rows": null,
            "grid_column": null,
            "grid_gap": null,
            "grid_row": null,
            "grid_template_areas": null,
            "grid_template_columns": null,
            "grid_template_rows": null,
            "height": null,
            "justify_content": null,
            "justify_items": null,
            "left": null,
            "margin": null,
            "max_height": null,
            "max_width": null,
            "min_height": null,
            "min_width": null,
            "object_fit": null,
            "object_position": null,
            "order": null,
            "overflow": null,
            "overflow_x": null,
            "overflow_y": null,
            "padding": null,
            "right": null,
            "top": null,
            "visibility": null,
            "width": null
          }
        },
        "afb9a6158e35411b93dacefc103edb6e": {
          "model_module": "@jupyter-widgets/controls",
          "model_name": "DescriptionStyleModel",
          "model_module_version": "1.5.0",
          "state": {
            "_model_module": "@jupyter-widgets/controls",
            "_model_module_version": "1.5.0",
            "_model_name": "DescriptionStyleModel",
            "_view_count": null,
            "_view_module": "@jupyter-widgets/base",
            "_view_module_version": "1.2.0",
            "_view_name": "StyleView",
            "description_width": ""
          }
        }
      }
    }
  },
  "cells": [
    {
      "cell_type": "markdown",
      "source": [
        "**1. Data Cleaning and Preprocessing**"
      ],
      "metadata": {
        "id": "Da82LGc2fRuD"
      }
    },
    {
      "cell_type": "code",
      "execution_count": null,
      "metadata": {
        "colab": {
          "base_uri": "https://localhost:8080/",
          "height": 260
        },
        "id": "DiEFGFR3J_23",
        "outputId": "f881b8f3-a9c8-4805-879d-a629516f45e8"
      },
      "outputs": [
        {
          "output_type": "stream",
          "name": "stdout",
          "text": [
            "✅ Cleaned and Discretized Data Sample:\n",
            "   age  sex  cp  trestbps  chol  fbs  restecg  thalach  exang  oldpeak  slope  \\\n",
            "0    2    2   2         1     0    2        0        1      0        1      0   \n",
            "1    0    2   2         1     0    0        1        2      0        1      0   \n",
            "2    0    0   1         1     0    0        0        2      0        0      2   \n",
            "3    1    2   1         0     0    0        1        2      0        0      2   \n",
            "4    1    0   0         0     1    0        1        2      2        0      2   \n",
            "\n",
            "   ca  thal  target  \n",
            "0   0     1       2  \n",
            "1   0     2       2  \n",
            "2   0     2       2  \n",
            "3   0     2       2  \n",
            "4   0     2       2  \n"
          ]
        },
        {
          "output_type": "display_data",
          "data": {
            "text/plain": [
              "<IPython.core.display.Javascript object>"
            ],
            "application/javascript": [
              "\n",
              "    async function download(id, filename, size) {\n",
              "      if (!google.colab.kernel.accessAllowed) {\n",
              "        return;\n",
              "      }\n",
              "      const div = document.createElement('div');\n",
              "      const label = document.createElement('label');\n",
              "      label.textContent = `Downloading \"${filename}\": `;\n",
              "      div.appendChild(label);\n",
              "      const progress = document.createElement('progress');\n",
              "      progress.max = size;\n",
              "      div.appendChild(progress);\n",
              "      document.body.appendChild(div);\n",
              "\n",
              "      const buffers = [];\n",
              "      let downloaded = 0;\n",
              "\n",
              "      const channel = await google.colab.kernel.comms.open(id);\n",
              "      // Send a message to notify the kernel that we're ready.\n",
              "      channel.send({})\n",
              "\n",
              "      for await (const message of channel.messages) {\n",
              "        // Send a message to notify the kernel that we're ready.\n",
              "        channel.send({})\n",
              "        if (message.buffers) {\n",
              "          for (const buffer of message.buffers) {\n",
              "            buffers.push(buffer);\n",
              "            downloaded += buffer.byteLength;\n",
              "            progress.value = downloaded;\n",
              "          }\n",
              "        }\n",
              "      }\n",
              "      const blob = new Blob(buffers, {type: 'application/binary'});\n",
              "      const a = document.createElement('a');\n",
              "      a.href = window.URL.createObjectURL(blob);\n",
              "      a.download = filename;\n",
              "      div.appendChild(a);\n",
              "      a.click();\n",
              "      div.remove();\n",
              "    }\n",
              "  "
            ]
          },
          "metadata": {}
        },
        {
          "output_type": "display_data",
          "data": {
            "text/plain": [
              "<IPython.core.display.Javascript object>"
            ],
            "application/javascript": [
              "download(\"download_a02b10ab-e6be-43c7-8e99-a6d0f6c3b28a\", \"cleaned_heart_disease.csv\", 8536)"
            ]
          },
          "metadata": {}
        }
      ],
      "source": [
        "import pandas as pd\n",
        "from sklearn.preprocessing import MinMaxScaler, KBinsDiscretizer\n",
        "\n",
        "# Load dataset\n",
        "df = pd.read_csv(\"heart_disease.csv\")\n",
        "\n",
        "# Drop duplicates and missing values\n",
        "df = df.drop_duplicates().dropna()\n",
        "\n",
        "# Normalize numeric columns using Min-Max scaling\n",
        "numeric_cols = df.select_dtypes(include=['int64', 'float64']).columns\n",
        "scaler = MinMaxScaler()\n",
        "df[numeric_cols] = scaler.fit_transform(df[numeric_cols])\n",
        "\n",
        "# Discretize normalized data into 3 bins\n",
        "kbins = KBinsDiscretizer(n_bins=3, encode='ordinal', strategy='uniform')\n",
        "df[numeric_cols] = kbins.fit_transform(df[numeric_cols])\n",
        "\n",
        "# Convert all numeric columns to int (required by pgmpy)\n",
        "df[numeric_cols] = df[numeric_cols].astype(int)\n",
        "\n",
        "# Preview cleaned data\n",
        "print(\"✅ Cleaned and Discretized Data Sample:\")\n",
        "print(df.head())\n",
        "df.to_csv(\"cleaned_heart_disease.csv\", index=False)\n",
        "\n",
        "# Download the file to your local machine\n",
        "from google.colab import files\n",
        "files.download(\"cleaned_heart_disease.csv\")"
      ]
    },
    {
      "cell_type": "markdown",
      "source": [
        "**2. Define and Train the Bayesian Network**"
      ],
      "metadata": {
        "id": "6WE9C7k3g5n6"
      }
    },
    {
      "cell_type": "code",
      "source": [
        "\n",
        "from pgmpy.models import DiscreteBayesianNetwork\n",
        "from pgmpy.estimators import MaximumLikelihoodEstimator\n",
        "\n",
        "# Define the Bayesian structure: age → fbs → target → chol, thalach\n",
        "model = DiscreteBayesianNetwork([\n",
        "    ('age', 'fbs'),\n",
        "    ('fbs', 'target'),\n",
        "    ('target', 'chol'),\n",
        "    ('target', 'thalach')\n",
        "])\n",
        "\n",
        "# Train the model using Maximum Likelihood Estimation\n",
        "model.fit(df, estimator=MaximumLikelihoodEstimator)\n",
        "\n",
        "print(\"\\n✅ Model trained using MLE.\")\n"
      ],
      "metadata": {
        "colab": {
          "base_uri": "https://localhost:8080/"
        },
        "id": "ZTxJC7dlKY56",
        "outputId": "8b72bf3c-7138-43c0-b037-781f868aa8e9"
      },
      "execution_count": null,
      "outputs": [
        {
          "output_type": "stream",
          "name": "stdout",
          "text": [
            "\n",
            "✅ Model trained using MLE.\n"
          ]
        }
      ]
    },
    {
      "cell_type": "markdown",
      "source": [
        "**3. Set Up Inference and Helper Function**"
      ],
      "metadata": {
        "id": "h5GVesychvta"
      }
    },
    {
      "cell_type": "code",
      "source": [
        "\n",
        "from pgmpy.inference import VariableElimination\n",
        "\n",
        "# Create inference engine\n",
        "infer = VariableElimination(model)\n",
        "\n",
        "# Helper: Validate evidence values\n",
        "def safe_query(variable, evidence):\n",
        "    for k, v in evidence.items():\n",
        "        if v not in df[k].unique():\n",
        "            raise ValueError(f\"⚠️ Invalid value {v} for variable '{k}'. Must be one of {df[k].unique()}\")\n",
        "    return infer.query(variables=[variable], evidence=evidence)\n"
      ],
      "metadata": {
        "id": "tyjXi_abNzMn"
      },
      "execution_count": null,
      "outputs": []
    },
    {
      "cell_type": "markdown",
      "source": [
        "**4. Query 1: P(target | fbs=2, age=1)**"
      ],
      "metadata": {
        "id": "VCGkQCuZhzP5"
      }
    },
    {
      "cell_type": "code",
      "source": [
        "\n",
        "try:\n",
        "    result = safe_query('target', {'fbs': 2, 'age': 1})\n",
        "    print(\"\\n🎯 P(target | fbs=2, age=1):\")\n",
        "    print(result)\n",
        "except ValueError as e:\n",
        "    print(e)\n",
        "plt.barh(range(len(result.values)), result.values)\n",
        "plt.yticks(range(len(result.values)), [f\"target={i}\" for i in range(len(result.values))])\n",
        "plt.xlabel(\"Probability\")\n",
        "plt.title(\"P(target | fbs=2, age=1)\")\n",
        "plt.tight_layout()\n",
        "plt.savefig(\"inference_target_given_fbs_age.png\")\n",
        "\n"
      ],
      "metadata": {
        "colab": {
          "base_uri": "https://localhost:8080/",
          "height": 643
        },
        "id": "_M1R49JbN_z-",
        "outputId": "da41fca9-57bc-4a59-ceb4-6909e1406646"
      },
      "execution_count": null,
      "outputs": [
        {
          "output_type": "stream",
          "name": "stdout",
          "text": [
            "\n",
            "🎯 P(target | fbs=2, age=1):\n",
            "+-----------+---------------+\n",
            "| target    |   phi(target) |\n",
            "+===========+===============+\n",
            "| target(0) |        0.4889 |\n",
            "+-----------+---------------+\n",
            "| target(2) |        0.5111 |\n",
            "+-----------+---------------+\n"
          ]
        },
        {
          "output_type": "display_data",
          "data": {
            "text/plain": [
              "<Figure size 640x480 with 1 Axes>"
            ],
            "image/png": "[encoded data removed]"
          },
          "metadata": {}
        }
      ]
    },
    {
      "cell_type": "markdown",
      "source": [
        "** 5. Query 2: Most Likely thalach Value Given target=1**"
      ],
      "metadata": {
        "id": "GS4KE9fxh9dY"
      }
    },
    {
      "cell_type": "code",
      "source": [
        "\n",
        "try:\n",
        "    map_result = infer.map_query(variables=['thalach'], evidence={'target': 1})\n",
        "    print(\"\\n📈 Most likely thalach value given target=1:\", map_result['thalach'])\n",
        "except Exception as e:\n",
        "    print(e)\n"
      ],
      "metadata": {
        "colab": {
          "base_uri": "https://localhost:8080/",
          "height": 150,
          "referenced_widgets": [
            "cabb3ab912b64f89bcaad66e79c7cd09",
            "6809459f218d4001a5d0748de3422422",
            "509228131f7f4d67b73ef9f546328aa1",
            "f8ee1937acc949c68a94790f0a366a18",
            "a90a5726f44c41859e45e037697ba174",
            "e23f44ab692a4dc98fd37178c05b0ebb",
            "caa74b601c3e4f35b3fdd68f18766a0c",
            "6e1f21ab24254984a5fb66168b2122fb",
            "8aee03aff4124e2fb1bd4ca20af8f6fc",
            "14983c1f75454520a32a92fa87ab59c1",
            "6cf8062f500f422ba63761ee4f6738fc",
            "03cb889413d04595b8e093aa8afcbf5b",
            "8b7246bdccb4431d83872ea5e22ea703",
            "a11d42d4f3764772af808ef4329277fd",
            "e2008c80d607458ab206a230c5a8dfaa",
            "9cba2ed237ce45af9e1174d8c1acceeb",
            "52a5f6ab96dd4f0db452ca60219787f8",
            "3810259483464779be4a91f6c13a8ebb",
            "8ef09ca108c042b6806710a70f85b179",
            "0ec2c05c27fd434fbcda06b6514f7c12",
            "83bbb78a5b6b49739021711871a3e42e",
            "afb9a6158e35411b93dacefc103edb6e"
          ]
        },
        "id": "fpk_aOjsh8kh",
        "outputId": "79726472-d407-40b8-d98c-2c46b7b96729"
      },
      "execution_count": null,
      "outputs": [
        {
          "output_type": "stream",
          "name": "stderr",
          "text": [
            "WARNING:pgmpy:Found unknown state name. Trying to switch to using all state names as state numbers\n",
            "WARNING:pgmpy:Found unknown state name. Trying to switch to using all state names as state numbers\n"
          ]
        },
        {
          "output_type": "display_data",
          "data": {
            "text/plain": [
              "0it [00:00, ?it/s]"
            ],
            "application/vnd.jupyter.widget-view+json": {
              "version_major": 2,
              "version_minor": 0,
              "model_id": "cabb3ab912b64f89bcaad66e79c7cd09"
            }
          },
          "metadata": {}
        },
        {
          "output_type": "display_data",
          "data": {
            "text/plain": [
              "0it [00:00, ?it/s]"
            ],
            "application/vnd.jupyter.widget-view+json": {
              "version_major": 2,
              "version_minor": 0,
              "model_id": "03cb889413d04595b8e093aa8afcbf5b"
            }
          },
          "metadata": {}
        },
        {
          "output_type": "stream",
          "name": "stdout",
          "text": [
            "\n",
            "📈 Most likely thalach value given target=1: 2\n"
          ]
        }
      ]
    },
    {
      "cell_type": "markdown",
      "source": [
        "**Valid Values for Reference**"
      ],
      "metadata": {
        "id": "0QjKKwONiOan"
      }
    },
    {
      "cell_type": "code",
      "source": [
        "\n",
        "print(\"\\n🗂️ Valid variable values from dataset:\")\n",
        "for col in ['age', 'fbs', 'target', 'chol', 'thalach']:\n",
        "    print(f\"{col}: {sorted(df[col].unique())}\")\n"
      ],
      "metadata": {
        "colab": {
          "base_uri": "https://localhost:8080/"
        },
        "id": "SXXQat83iRuG",
        "outputId": "94297ced-55c1-4752-a25f-c670e1dac9ec"
      },
      "execution_count": null,
      "outputs": [
        {
          "output_type": "stream",
          "name": "stdout",
          "text": [
            "\n",
            "🗂️ Valid variable values from dataset:\n",
            "age: [np.int64(0), np.int64(1), np.int64(2)]\n",
            "fbs: [np.int64(0), np.int64(2)]\n",
            "target: [np.int64(0), np.int64(2)]\n",
            "chol: [np.int64(0), np.int64(1), np.int64(2)]\n",
            "thalach: [np.int64(0), np.int64(1), np.int64(2)]\n"
          ]
        }
      ]
    },
    {
      "cell_type": "markdown",
      "source": [
        "**7. Visualize Network Structure**"
      ],
      "metadata": {
        "id": "fMM326OxiWIo"
      }
    },
    {
      "cell_type": "code",
      "source": [
        "\n",
        "import networkx as nx\n",
        "import matplotlib.pyplot as plt\n",
        "\n",
        "# Create and draw Bayesian graph\n",
        "G = nx.DiGraph()\n",
        "G.add_edges_from(model.edges())\n",
        "\n",
        "plt.figure(figsize=(8, 6))\n",
        "nx.draw(G, with_labels=True, node_color='lightblue', node_size=3000, font_size=12, arrowsize=20)\n",
        "plt.title(\"📊 Bayesian Network Structure\")\n",
        "plt.show()\n"
      ],
      "metadata": {
        "colab": {
          "base_uri": "https://localhost:8080/",
          "height": 694
        },
        "id": "Qi4SeDl0iYmk",
        "outputId": "4625edf9-9a56-4306-a5e2-e43e87039d73"
      },
      "execution_count": null,
      "outputs": [
        {
          "output_type": "stream",
          "name": "stderr",
          "text": [
            "/usr/local/lib/python3.11/dist-packages/IPython/core/pylabtools.py:151: UserWarning: Glyph 128202 (\\N{BAR CHART}) missing from font(s) DejaVu Sans.\n",
            "  fig.canvas.print_figure(bytes_io, **kw)\n"
          ]
        },
        {
          "output_type": "display_data",
          "data": {
            "text/plain": [
              "<Figure size 800x600 with 1 Axes>"
            ],
            "image/png": "[encoded data removed]"
          },
          "metadata": {}
        }
      ]
    },
    {
      "cell_type": "markdown",
      "source": [
        "**8. Visualize CPDs (Conditional Probability Distributions)**"
      ],
      "metadata": {
        "id": "w_GEPWNFicwr"
      }
    },
    {
      "cell_type": "code",
      "source": [
        "\n",
        "for cpd in model.get_cpds():\n",
        "    print(f\"\\n🔢 CPD for {cpd.variable}:\\n\", cpd)\n",
        "    values = cpd.get_values()\n",
        "\n",
        "    plt.figure(figsize=(6, 4))\n",
        "    plt.title(f\"CPD for {cpd.variable}\")\n",
        "    if values.ndim == 1:\n",
        "        plt.bar(range(len(values)), values)\n",
        "    else:\n",
        "        marg_values = values.sum(axis=tuple(range(1, values.ndim)))\n",
        "        plt.bar(range(len(marg_values)), marg_values)\n",
        "    plt.xlabel(f\"States of {cpd.variable}\")\n",
        "    plt.ylabel(\"Probability\")\n",
        "    plt.show()\n"
      ],
      "metadata": {
        "colab": {
          "base_uri": "https://localhost:8080/",
          "height": 1000
        },
        "id": "d4OtFGP9ihAT",
        "outputId": "3c4c0782-9805-4a5d-c44c-2d974b0e4ca9"
      },
      "execution_count": null,
      "outputs": [
        {
          "output_type": "stream",
          "name": "stdout",
          "text": [
            "\n",
            "🔢 CPD for age:\n",
            " +--------+----------+\n",
            "| age(0) | 0.182119 |\n",
            "+--------+----------+\n",
            "| age(1) | 0.556291 |\n",
            "+--------+----------+\n",
            "| age(2) | 0.261589 |\n",
            "+--------+----------+\n"
          ]
        },
        {
          "output_type": "display_data",
          "data": {
            "text/plain": [
              "<Figure size 600x400 with 1 Axes>"
            ],
            "image/png": "[encoded data removed]"
          },
          "metadata": {}
        },
        {
          "output_type": "stream",
          "name": "stdout",
          "text": [
            "\n",
            "🔢 CPD for fbs:\n",
            " +--------+---------------------+---------------------+---------------------+\n",
            "| age    | age(0)              | age(1)              | age(2)              |\n",
            "+--------+---------------------+---------------------+---------------------+\n",
            "| fbs(0) | 0.9454545454545454  | 0.8273809523809523  | 0.8354430379746836  |\n",
            "+--------+---------------------+---------------------+---------------------+\n",
            "| fbs(2) | 0.05454545454545454 | 0.17261904761904762 | 0.16455696202531644 |\n",
            "+--------+---------------------+---------------------+---------------------+\n"
          ]
        },
        {
          "output_type": "display_data",
          "data": {
            "text/plain": [
              "<Figure size 600x400 with 1 Axes>"
            ],
            "image/png": "[encoded data removed]"
          },
          "metadata": {}
        },
        {
          "output_type": "stream",
          "name": "stdout",
          "text": [
            "\n",
            "🔢 CPD for target:\n",
            " +-----------+---------------------+--------------------+\n",
            "| fbs       | fbs(0)              | fbs(2)             |\n",
            "+-----------+---------------------+--------------------+\n",
            "| target(0) | 0.45136186770428016 | 0.4888888888888889 |\n",
            "+-----------+---------------------+--------------------+\n",
            "| target(2) | 0.5486381322957199  | 0.5111111111111111 |\n",
            "+-----------+---------------------+--------------------+\n"
          ]
        },
        {
          "output_type": "display_data",
          "data": {
            "text/plain": [
              "<Figure size 600x400 with 1 Axes>"
            ],
            "image/png": "[encoded data removed]"
          },
          "metadata": {}
        },
        {
          "output_type": "stream",
          "name": "stdout",
          "text": [
            "\n",
            "🔢 CPD for chol:\n",
            " +---------+---------------------+----------------------+\n",
            "| target  | target(0)           | target(2)            |\n",
            "+---------+---------------------+----------------------+\n",
            "| chol(0) | 0.6594202898550725  | 0.7926829268292683   |\n",
            "+---------+---------------------+----------------------+\n",
            "| chol(1) | 0.34057971014492755 | 0.20121951219512196  |\n",
            "+---------+---------------------+----------------------+\n",
            "| chol(2) | 0.0                 | 0.006097560975609756 |\n",
            "+---------+---------------------+----------------------+\n"
          ]
        },
        {
          "output_type": "display_data",
          "data": {
            "text/plain": [
              "<Figure size 600x400 with 1 Axes>"
            ],
            "image/png": "[encoded data removed]"
          },
          "metadata": {}
        },
        {
          "output_type": "stream",
          "name": "stdout",
          "text": [
            "\n",
            "🔢 CPD for thalach:\n",
            " +------------+---------------------+----------------------+\n",
            "| target     | target(0)           | target(2)            |\n",
            "+------------+---------------------+----------------------+\n",
            "| thalach(0) | 0.16666666666666666 | 0.024390243902439025 |\n",
            "+------------+---------------------+----------------------+\n",
            "| thalach(1) | 0.6159420289855072  | 0.4146341463414634   |\n",
            "+------------+---------------------+----------------------+\n",
            "| thalach(2) | 0.21739130434782608 | 0.5609756097560976   |\n",
            "+------------+---------------------+----------------------+\n"
          ]
        },
        {
          "output_type": "display_data",
          "data": {
            "text/plain": [
              "<Figure size 600x400 with 1 Axes>"
            ],
            "image/png": "[encoded data removed]"
          },
          "metadata": {}
        }
      ]
    }
  ]
}